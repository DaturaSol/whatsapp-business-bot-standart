{
 "cells": [
  {
   "cell_type": "markdown",
   "id": "d22ef8fa",
   "metadata": {},
   "source": [
    "https://developers.facebook.com/docs/whatsapp/cloud-api/reference/media#upload-media"
   ]
  }
 ],
 "metadata": {
  "language_info": {
   "name": "python"
  }
 },
 "nbformat": 4,
 "nbformat_minor": 5
}
